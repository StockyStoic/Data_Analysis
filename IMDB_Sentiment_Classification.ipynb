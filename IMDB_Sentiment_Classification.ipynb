{
 "cells": [
  {
   "cell_type": "markdown",
   "id": "72c6b911",
   "metadata": {},
   "source": [
    "This task was a sentiment classification task based on the IMDB movie reviews. I performed the task to better understand how word embeddings can be used to represent words in a lower-dimensional space as an alternative to one-hot encoding which results in very sparse, very high-dimensional vector representations of words"
   ]
  },
  {
   "cell_type": "code",
   "execution_count": 142,
   "id": "398f4896",
   "metadata": {},
   "outputs": [],
   "source": [
    "from keras.preprocessing.text import Tokenizer\n",
    "from keras.preprocessing.sequence import pad_sequences\n",
    "from keras import layers\n",
    "from keras import models\n",
    "import numpy as np\n",
    "import matplotlib.pyplot as plt"
   ]
  },
  {
   "cell_type": "code",
   "execution_count": 143,
   "id": "34df069e",
   "metadata": {},
   "outputs": [],
   "source": [
    "import os\n",
    "\n",
    "imdb_dir = './aclImdb/'\n",
    "train_dir = os.path.join(imdb_dir, 'train')\n",
    "\n",
    "labels = list()\n",
    "texts = list()\n",
    "\n",
    "for label_type in ['neg','pos']:\n",
    "    dir_name = os.path.join(train_dir, label_type)\n",
    "    for fname in os.listdir(dir_name):\n",
    "        if fname[-4:] == '.txt':\n",
    "            f = open(os.path.join(dir_name, fname))\n",
    "            texts.append(f.read())\n",
    "            f.close()\n",
    "            if label_type == 'neg':\n",
    "                labels.append(0)\n",
    "            else:\n",
    "                labels.append(1)"
   ]
  },
  {
   "cell_type": "raw",
   "id": "a01217b2",
   "metadata": {},
   "source": [
    "from nltk.tokenize import word_tokenize\n",
    "tokens = []\n",
    "import string\n",
    "table = str.maketrans('', '', string.punctuation)\n",
    "\n",
    "for text in texts:\n",
    "    tokenized = word_tokenize(text)\n",
    "    tokenized = [token for token in tokenized if token.isalpha()]\n",
    "    tokenized = [token.lower() for token in tokenized]\n",
    "    tokenized = [token.translate(table) for token in tokenized]\n",
    "    tokens.append(tokenized)\n",
    "    #tokens.append(word_tokenize(tokenized))\n",
    "\n",
    "#tokens = [token.lower() for token in tokens]"
   ]
  },
  {
   "cell_type": "code",
   "execution_count": 191,
   "id": "b94f1f02",
   "metadata": {},
   "outputs": [],
   "source": [
    "maxlen = 100 #keep only the last 100 elements of every vector sequence\n",
    "training_samples = 2000 #train on only 2000 reviews\n",
    "validation_samples = 10000 #validate on 10000 reviews\n",
    "max_words = 1000 #Restrict dictionary to the 1000 most common words across all reviews\n",
    "\n",
    "tokenizer = Tokenizer(num_words=max_words)\n",
    "tokenizer.fit_on_texts(texts)\n",
    "sequences = tokenizer.texts_to_sequences(texts)\n",
    "word_index = tokenizer.word_index #dictionary of unique words"
   ]
  },
  {
   "cell_type": "code",
   "execution_count": 192,
   "id": "bd933d40",
   "metadata": {},
   "outputs": [
    {
     "name": "stdout",
     "output_type": "stream",
     "text": [
      "Found 87393 unique words\n"
     ]
    }
   ],
   "source": [
    "print('Found {0} unique words'.format(len(word_index)))"
   ]
  },
  {
   "cell_type": "code",
   "execution_count": 193,
   "id": "e6c4c2a9",
   "metadata": {},
   "outputs": [],
   "source": [
    "data = pad_sequences(sequences, maxlen=maxlen)"
   ]
  },
  {
   "cell_type": "code",
   "execution_count": 194,
   "id": "cf2b7e1d",
   "metadata": {},
   "outputs": [],
   "source": [
    "labels = np.asarray(labels)"
   ]
  },
  {
   "cell_type": "code",
   "execution_count": 195,
   "id": "c9e6baba",
   "metadata": {},
   "outputs": [
    {
     "name": "stdout",
     "output_type": "stream",
     "text": [
      "Shape of data tensor: (25000, 100)\n",
      "Shape of label tensor: (25000,)\n"
     ]
    }
   ],
   "source": [
    "print('Shape of data tensor:', data.shape)\n",
    "print('Shape of label tensor:', labels.shape)"
   ]
  },
  {
   "cell_type": "code",
   "execution_count": 196,
   "id": "ea397631",
   "metadata": {},
   "outputs": [
    {
     "data": {
      "text/plain": [
       "array([    0,     1,     2, ..., 24997, 24998, 24999])"
      ]
     },
     "execution_count": 196,
     "metadata": {},
     "output_type": "execute_result"
    }
   ],
   "source": [
    "indices = np.arange(data.shape[0])\n",
    "indices"
   ]
  },
  {
   "cell_type": "code",
   "execution_count": 197,
   "id": "2b3cdc6f",
   "metadata": {},
   "outputs": [
    {
     "data": {
      "text/plain": [
       "array([19205, 18715, 14689, ..., 10237, 23350,  2421])"
      ]
     },
     "execution_count": 197,
     "metadata": {},
     "output_type": "execute_result"
    }
   ],
   "source": [
    "np.random.shuffle(indices)\n",
    "indices"
   ]
  },
  {
   "cell_type": "code",
   "execution_count": 198,
   "id": "30105a1c",
   "metadata": {},
   "outputs": [],
   "source": [
    "data = data[indices]\n",
    "labels = labels[indices]"
   ]
  },
  {
   "cell_type": "code",
   "execution_count": 199,
   "id": "033c1c67",
   "metadata": {},
   "outputs": [],
   "source": [
    "x_train = data[:training_samples]\n",
    "y_train = labels[:training_samples]\n",
    "x_val = data[training_samples:training_samples + validation_samples]\n",
    "y_val = labels[training_samples:training_samples + validation_samples]"
   ]
  },
  {
   "cell_type": "code",
   "execution_count": 200,
   "id": "b06ca2c3",
   "metadata": {},
   "outputs": [
    {
     "data": {
      "text/plain": [
       "array([1, 1, 1, ..., 0, 0, 1])"
      ]
     },
     "execution_count": 200,
     "metadata": {},
     "output_type": "execute_result"
    }
   ],
   "source": [
    "y_train"
   ]
  },
  {
   "cell_type": "code",
   "execution_count": 116,
   "id": "805ee323",
   "metadata": {},
   "outputs": [
    {
     "name": "stdout",
     "output_type": "stream",
     "text": [
      "Found 400000 word vectors\n"
     ]
    }
   ],
   "source": [
    "#Next we import the Stanford GloVe directory\n",
    "\n",
    "glove_dir = './glove/'\n",
    "embeddings_index = dict()\n",
    "\n",
    "f = open(os.path.join(glove_dir, 'glove.6B.300d.txt'))\n",
    "for line in f:\n",
    "    values = line.split()\n",
    "    word = values[0]\n",
    "    coefs = np.asarray(values[1:], dtype='float32')\n",
    "    embeddings_index[word] = coefs\n",
    "f.close()\n",
    "\n",
    "print('Found %s word vectors' %len(embeddings_index))"
   ]
  },
  {
   "cell_type": "code",
   "execution_count": 154,
   "id": "d0a66d25",
   "metadata": {},
   "outputs": [],
   "source": [
    "embedding_dim = 300\n",
    "\n",
    "embedding_matrix = np.zeros((max_words, embedding_dim))\n",
    "for word, i in word_index.items():\n",
    "    if i < max_words:\n",
    "        embedding_vector = embeddings_index.get(word)\n",
    "        if embedding_vector is not None:\n",
    "            embedding_matrix[i] = embedding_vector"
   ]
  },
  {
   "cell_type": "code",
   "execution_count": 219,
   "id": "82bf2224",
   "metadata": {},
   "outputs": [
    {
     "name": "stdout",
     "output_type": "stream",
     "text": [
      "Model: \"sequential_19\"\n",
      "_________________________________________________________________\n",
      " Layer (type)                Output Shape              Param #   \n",
      "=================================================================\n",
      " embedding_19 (Embedding)    (None, 100, 300)          300000    \n",
      "                                                                 \n",
      " gru_44 (GRU)                (None, 100, 32)           32064     \n",
      "                                                                 \n",
      " dropout_1 (Dropout)         (None, 100, 32)           0         \n",
      "                                                                 \n",
      " gru_45 (GRU)                (None, 100, 32)           6336      \n",
      "                                                                 \n",
      " dropout_2 (Dropout)         (None, 100, 32)           0         \n",
      "                                                                 \n",
      " gru_46 (GRU)                (None, 32)                6336      \n",
      "                                                                 \n",
      " dropout_3 (Dropout)         (None, 32)                0         \n",
      "                                                                 \n",
      " dense_26 (Dense)            (None, 1)                 33        \n",
      "                                                                 \n",
      "=================================================================\n",
      "Total params: 344,769\n",
      "Trainable params: 344,769\n",
      "Non-trainable params: 0\n",
      "_________________________________________________________________\n"
     ]
    }
   ],
   "source": [
    "#A dropout is added after every layer to reduce overfitting\n",
    "\n",
    "model = models.Sequential()\n",
    "\n",
    "model.add(layers.Embedding(max_words, embedding_dim, input_length=maxlen))\n",
    "model.add(layers.GRU(32, return_sequences=True))\n",
    "model.add(layers.Dropout(0.3))\n",
    "model.add(layers.GRU(32, return_sequences=True))\n",
    "model.add(layers.Dropout(0.3))\n",
    "#model.add(layers.GRU(32, return_sequences=True))\n",
    "model.add(layers.GRU(32))\n",
    "model.add(layers.Dropout(0.3))\n",
    "#model.add(layers.Dense(32, activation='relu'))\n",
    "model.add(layers.Dense(1, activation='sigmoid'))\n",
    "model.summary()"
   ]
  },
  {
   "cell_type": "raw",
   "id": "61012ee4",
   "metadata": {},
   "source": [
    "model = models.Sequential()\n",
    "\n",
    "model.add(layers.Embedding(max_words, 128, input_length=maxlen))\n",
    "model.add(layers.Conv1D(32, 5, activation='relu'))\n",
    "model.add(layers.MaxPooling1D(3))\n",
    "model.add(layers.Conv1D(32, 5, activation='relu'))\n",
    "model.add(layers.GRU(32, dropout=0.1, recurrent_dropout=0.5))\n",
    "model.add(layers.Dense(1))\n",
    "model.summary()"
   ]
  },
  {
   "cell_type": "code",
   "execution_count": 220,
   "id": "74ce2ce1",
   "metadata": {},
   "outputs": [
    {
     "data": {
      "text/plain": [
       "[<keras.layers.embeddings.Embedding at 0x7f3b0e12a3d0>,\n",
       " <keras.layers.recurrent_v2.GRU at 0x7f3b0e11f210>,\n",
       " <keras.layers.core.dropout.Dropout at 0x7f3b8dc98d90>,\n",
       " <keras.layers.recurrent_v2.GRU at 0x7f3b8de5f3d0>,\n",
       " <keras.layers.core.dropout.Dropout at 0x7f3b8d563490>,\n",
       " <keras.layers.recurrent_v2.GRU at 0x7f3b8d541f90>,\n",
       " <keras.layers.core.dropout.Dropout at 0x7f3c2cc29cd0>,\n",
       " <keras.layers.core.dense.Dense at 0x7f3b8d647790>]"
      ]
     },
     "execution_count": 220,
     "metadata": {},
     "output_type": "execute_result"
    }
   ],
   "source": [
    "model.layers"
   ]
  },
  {
   "cell_type": "code",
   "execution_count": 138,
   "id": "209be63e",
   "metadata": {},
   "outputs": [],
   "source": [
    "#model.layers[0].set_weights([embedding_matrix])\n",
    "#model.layers[0].trainable = False"
   ]
  },
  {
   "cell_type": "code",
   "execution_count": 221,
   "id": "bdc17f5a",
   "metadata": {},
   "outputs": [
    {
     "name": "stdout",
     "output_type": "stream",
     "text": [
      "Epoch 1/15\n",
      "63/63 [==============================] - 13s 146ms/step - loss: 0.6547 - acc: 0.6090 - val_loss: 0.5815 - val_acc: 0.6891\n",
      "Epoch 2/15\n",
      "63/63 [==============================] - 8s 128ms/step - loss: 0.4771 - acc: 0.7710 - val_loss: 0.5709 - val_acc: 0.6903\n",
      "Epoch 3/15\n",
      "63/63 [==============================] - 8s 135ms/step - loss: 0.3718 - acc: 0.8425 - val_loss: 0.5392 - val_acc: 0.7351\n",
      "Epoch 4/15\n",
      "63/63 [==============================] - 8s 134ms/step - loss: 0.2998 - acc: 0.8805 - val_loss: 0.5573 - val_acc: 0.7486\n",
      "Epoch 5/15\n",
      "63/63 [==============================] - 9s 138ms/step - loss: 0.2429 - acc: 0.9070 - val_loss: 0.5795 - val_acc: 0.7508\n",
      "Epoch 6/15\n",
      "63/63 [==============================] - 9s 137ms/step - loss: 0.1743 - acc: 0.9400 - val_loss: 0.7307 - val_acc: 0.7697\n",
      "Epoch 7/15\n",
      "63/63 [==============================] - 8s 132ms/step - loss: 0.1492 - acc: 0.9480 - val_loss: 0.8133 - val_acc: 0.7572\n",
      "Epoch 8/15\n",
      "63/63 [==============================] - 8s 135ms/step - loss: 0.1265 - acc: 0.9570 - val_loss: 0.7929 - val_acc: 0.7609\n",
      "Epoch 9/15\n",
      "63/63 [==============================] - 9s 137ms/step - loss: 0.0821 - acc: 0.9710 - val_loss: 1.0094 - val_acc: 0.7284\n",
      "Epoch 10/15\n",
      "63/63 [==============================] - 9s 137ms/step - loss: 0.0640 - acc: 0.9755 - val_loss: 1.0329 - val_acc: 0.7650\n",
      "Epoch 11/15\n",
      "63/63 [==============================] - 8s 134ms/step - loss: 0.0463 - acc: 0.9840 - val_loss: 1.1994 - val_acc: 0.7336\n",
      "Epoch 12/15\n",
      "63/63 [==============================] - 9s 138ms/step - loss: 0.0515 - acc: 0.9865 - val_loss: 1.3226 - val_acc: 0.7555\n",
      "Epoch 13/15\n",
      "63/63 [==============================] - 9s 139ms/step - loss: 0.0478 - acc: 0.9860 - val_loss: 1.4763 - val_acc: 0.7590\n",
      "Epoch 14/15\n",
      "63/63 [==============================] - 9s 136ms/step - loss: 0.0423 - acc: 0.9895 - val_loss: 1.3173 - val_acc: 0.7511\n",
      "Epoch 15/15\n",
      "63/63 [==============================] - 9s 138ms/step - loss: 0.0309 - acc: 0.9915 - val_loss: 1.5184 - val_acc: 0.7552\n"
     ]
    }
   ],
   "source": [
    "model.compile(optimizer='rmsprop', loss='binary_crossentropy', metrics=['acc'])\n",
    "history = model.fit(x_train, y_train,\n",
    "                    epochs=15,\n",
    "                    batch_size=32,\n",
    "                    validation_data=(x_val, y_val))\n",
    "model.save_weights('pre_trained_glove_model.h5')"
   ]
  },
  {
   "cell_type": "code",
   "execution_count": 222,
   "id": "13096347",
   "metadata": {},
   "outputs": [
    {
     "data": {
      "text/plain": [
       "dict_keys(['loss', 'acc', 'val_loss', 'val_acc'])"
      ]
     },
     "execution_count": 222,
     "metadata": {},
     "output_type": "execute_result"
    }
   ],
   "source": [
    "history_dict = history.history\n",
    "history_dict.keys()"
   ]
  },
  {
   "cell_type": "code",
   "execution_count": 223,
   "id": "2d7efa12",
   "metadata": {
    "scrolled": false
   },
   "outputs": [
    {
     "data": {
      "image/png": "[encoded data removed]",
      "text/plain": [
       "<Figure size 432x288 with 1 Axes>"
      ]
     },
     "metadata": {
      "needs_background": "light"
     },
     "output_type": "display_data"
    },
    {
     "data": {
      "image/png": "[encoded data removed]",
      "text/plain": [
       "<Figure size 432x288 with 1 Axes>"
      ]
     },
     "metadata": {
      "needs_background": "light"
     },
     "output_type": "display_data"
    }
   ],
   "source": [
    "epochs = list(np.linspace(1, len(history_dict['loss']), len(history_dict['loss'])))\n",
    "\n",
    "training_loss = history_dict['loss']\n",
    "training_acc = history_dict['acc']\n",
    "validation_loss = history_dict['val_loss']\n",
    "validation_acc = history_dict['val_acc']\n",
    "\n",
    "plt.plot(epochs, training_loss, marker='o', label='Training Loss')\n",
    "plt.plot(epochs, validation_loss, marker='v', label='Validation Loss')\n",
    "plt.legend()\n",
    "plt.show()\n",
    "\n",
    "plt.figure()\n",
    "\n",
    "plt.plot(epochs, training_acc, marker='o', label='Training Accuracy')\n",
    "plt.plot(epochs, validation_acc, marker='v', label='Validation Accuracy')\n",
    "plt.legend()\n",
    "plt.show()"
   ]
  },
  {
   "cell_type": "code",
   "execution_count": 224,
   "id": "26b30a2a",
   "metadata": {},
   "outputs": [],
   "source": [
    "test_dir = os.path.join(imdb_dir, 'test')\n",
    "\n",
    "labels = list()\n",
    "texts = list()\n",
    "\n",
    "for label_type in ['neg','pos']:\n",
    "    dir_name = os.path.join(test_dir, label_type)\n",
    "    for fname in os.listdir(dir_name):\n",
    "        if fname[-4:] == '.txt':\n",
    "            f = open(os.path.join(dir_name, fname))\n",
    "            texts.append(f.read())\n",
    "            f.close()\n",
    "            if label_type == 'neg':\n",
    "                labels.append(0)\n",
    "            else:\n",
    "                labels.append(1)"
   ]
  },
  {
   "cell_type": "code",
   "execution_count": 225,
   "id": "0e52ca03",
   "metadata": {},
   "outputs": [],
   "source": [
    "sequences = tokenizer.texts_to_sequences(texts)"
   ]
  },
  {
   "cell_type": "code",
   "execution_count": 226,
   "id": "86419dbe",
   "metadata": {},
   "outputs": [],
   "source": [
    "x_test = pad_sequences(sequences, maxlen=maxlen)\n",
    "y_test = np.asarray(labels)"
   ]
  },
  {
   "cell_type": "code",
   "execution_count": 227,
   "id": "c54e3c8b",
   "metadata": {},
   "outputs": [
    {
     "name": "stdout",
     "output_type": "stream",
     "text": [
      "782/782 [==============================] - 11s 14ms/step - loss: 1.3956 - acc: 0.7722\n"
     ]
    },
    {
     "data": {
      "text/plain": [
       "[1.395646572113037, 0.7721999883651733]"
      ]
     },
     "execution_count": 227,
     "metadata": {},
     "output_type": "execute_result"
    }
   ],
   "source": [
    "model.load_weights('pre_trained_glove_model.h5')\n",
    "model.evaluate(x_test, y_test)"
   ]
  }
 ],
 "metadata": {
  "kernelspec": {
   "display_name": "Python 3",
   "language": "python",
   "name": "python3"
  },
  "language_info": {
   "codemirror_mode": {
    "name": "ipython",
    "version": 3
   },
   "file_extension": ".py",
   "mimetype": "text/x-python",
   "name": "python",
   "nbconvert_exporter": "python",
   "pygments_lexer": "ipython3",
   "version": "3.7.12"
  }
 },
 "nbformat": 4,
 "nbformat_minor": 5
}
