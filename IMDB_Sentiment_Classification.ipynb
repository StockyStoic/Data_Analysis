{
 "cells": [
  {
   "cell_type": "markdown",
   "id": "72c6b911",
   "metadata": {},
   "source": [
    "This task was a sentiment classification task based on the IMDB movie reviews. I performed the task to better understand how word embeddings can be used to represent words in a lower-dimensional space as an alternative to one-hot encoding which results in very sparse, very high-dimensional vector representations of words"
   ]
  },
  {
   "cell_type": "code",
   "execution_count": 142,
   "id": "398f4896",
   "metadata": {},
   "outputs": [],
   "source": [
    "from keras.preprocessing.text import Tokenizer\n",
    "from keras.preprocessing.sequence import pad_sequences\n",
    "from keras import layers\n",
    "from keras import models\n",
    "import numpy as np\n",
    "import matplotlib.pyplot as plt"
   ]
  },
  {
   "cell_type": "code",
   "execution_count": 143,
   "id": "34df069e",
   "metadata": {},
   "outputs": [],
   "source": [
    "import os\n",
    "\n",
    "imdb_dir = './aclImdb/'\n",
    "train_dir = os.path.join(imdb_dir, 'train')\n",
    "\n",
    "labels = list()\n",
    "texts = list()\n",
    "\n",
    "for label_type in ['neg','pos']:\n",
    "    dir_name = os.path.join(train_dir, label_type)\n",
    "    for fname in os.listdir(dir_name):\n",
    "        if fname[-4:] == '.txt':\n",
    "            f = open(os.path.join(dir_name, fname))\n",
    "            texts.append(f.read())\n",
    "            f.close()\n",
    "            if label_type == 'neg':\n",
    "                labels.append(0)\n",
    "            else:\n",
    "                labels.append(1)"
   ]
  },
  {
   "cell_type": "raw",
   "id": "11df7a0a",
   "metadata": {},
   "source": [
    "from nltk.tokenize import word_tokenize\n",
    "tokens = []\n",
    "import string\n",
    "table = str.maketrans('', '', string.punctuation)\n",
    "\n",
    "for text in texts:\n",
    "    tokenized = word_tokenize(text)\n",
    "    tokenized = [token for token in tokenized if token.isalpha()]\n",
    "    tokenized = [token.lower() for token in tokenized]\n",
    "    tokenized = [token.translate(table) for token in tokenized]\n",
    "    tokens.append(tokenized)\n",
    "    #tokens.append(word_tokenize(tokenized))\n",
    "\n",
    "#tokens = [token.lower() for token in tokens]"
   ]
  },
  {
   "cell_type": "code",
   "execution_count": 191,
   "id": "b94f1f02",
   "metadata": {},
   "outputs": [],
   "source": [
    "maxlen = 100 #keep only the last 100 elements of every vector sequence\n",
    "training_samples = 2000 #train on only 2000 reviews\n",
    "validation_samples = 10000 #validate on 10000 reviews\n",
    "max_words = 1000 #Restrict dictionary to the 1000 most common words across all reviews\n",
    "\n",
    "tokenizer = Tokenizer(num_words=max_words)\n",
    "tokenizer.fit_on_texts(texts)\n",
    "sequences = tokenizer.texts_to_sequences(texts)\n",
    "word_index = tokenizer.word_index #dictionary of unique words"
   ]
  },
  {
   "cell_type": "code",
   "execution_count": 192,
   "id": "bd933d40",
   "metadata": {},
   "outputs": [
    {
     "name": "stdout",
     "output_type": "stream",
     "text": [
      "Found 87393 unique words\n"
     ]
    }
   ],
   "source": [
    "print('Found {0} unique words'.format(len(word_index)))"
   ]
  },
  {
   "cell_type": "code",
   "execution_count": 193,
   "id": "e6c4c2a9",
   "metadata": {},
   "outputs": [],
   "source": [
    "data = pad_sequences(sequences, maxlen=maxlen)"
   ]
  },
  {
   "cell_type": "code",
   "execution_count": 194,
   "id": "cf2b7e1d",
   "metadata": {},
   "outputs": [],
   "source": [
    "labels = np.asarray(labels)"
   ]
  },
  {
   "cell_type": "code",
   "execution_count": 195,
   "id": "c9e6baba",
   "metadata": {},
   "outputs": [
    {
     "name": "stdout",
     "output_type": "stream",
     "text": [
      "Shape of data tensor: (25000, 100)\n",
      "Shape of label tensor: (25000,)\n"
     ]
    }
   ],
   "source": [
    "print('Shape of data tensor:', data.shape)\n",
    "print('Shape of label tensor:', labels.shape)"
   ]
  },
  {
   "cell_type": "code",
   "execution_count": 196,
   "id": "ea397631",
   "metadata": {},
   "outputs": [
    {
     "data": {
      "text/plain": [
       "array([    0,     1,     2, ..., 24997, 24998, 24999])"
      ]
     },
     "execution_count": 196,
     "metadata": {},
     "output_type": "execute_result"
    }
   ],
   "source": [
    "indices = np.arange(data.shape[0])\n",
    "indices"
   ]
  },
  {
   "cell_type": "code",
   "execution_count": 197,
   "id": "2b3cdc6f",
   "metadata": {},
   "outputs": [
    {
     "data": {
      "text/plain": [
       "array([19205, 18715, 14689, ..., 10237, 23350,  2421])"
      ]
     },
     "execution_count": 197,
     "metadata": {},
     "output_type": "execute_result"
    }
   ],
   "source": [
    "np.random.shuffle(indices)\n",
    "indices"
   ]
  },
  {
   "cell_type": "code",
   "execution_count": 198,
   "id": "30105a1c",
   "metadata": {},
   "outputs": [],
   "source": [
    "data = data[indices]\n",
    "labels = labels[indices]"
   ]
  },
  {
   "cell_type": "code",
   "execution_count": 199,
   "id": "033c1c67",
   "metadata": {},
   "outputs": [],
   "source": [
    "x_train = data[:training_samples]\n",
    "y_train = labels[:training_samples]\n",
    "x_val = data[training_samples:training_samples + validation_samples]\n",
    "y_val = labels[training_samples:training_samples + validation_samples]"
   ]
  },
  {
   "cell_type": "code",
   "execution_count": 200,
   "id": "b06ca2c3",
   "metadata": {},
   "outputs": [
    {
     "data": {
      "text/plain": [
       "array([1, 1, 1, ..., 0, 0, 1])"
      ]
     },
     "execution_count": 200,
     "metadata": {},
     "output_type": "execute_result"
    }
   ],
   "source": [
    "y_train"
   ]
  },
  {
   "cell_type": "code",
   "execution_count": 116,
   "id": "805ee323",
   "metadata": {},
   "outputs": [
    {
     "name": "stdout",
     "output_type": "stream",
     "text": [
      "Found 400000 word vectors\n"
     ]
    }
   ],
   "source": [
    "#Next we import the Stanford GloVe directory\n",
    "\n",
    "glove_dir = './glove/'\n",
    "embeddings_index = dict()\n",
    "\n",
    "f = open(os.path.join(glove_dir, 'glove.6B.300d.txt'))\n",
    "for line in f:\n",
    "    values = line.split()\n",
    "    word = values[0]\n",
    "    coefs = np.asarray(values[1:], dtype='float32')\n",
    "    embeddings_index[word] = coefs\n",
    "f.close()\n",
    "\n",
    "print('Found %s word vectors' %len(embeddings_index))"
   ]
  },
  {
   "cell_type": "code",
   "execution_count": 154,
   "id": "d0a66d25",
   "metadata": {},
   "outputs": [],
   "source": [
    "embedding_dim = 300\n",
    "\n",
    "embedding_matrix = np.zeros((max_words, embedding_dim))\n",
    "for word, i in word_index.items():\n",
    "    if i < max_words:\n",
    "        embedding_vector = embeddings_index.get(word)\n",
    "        if embedding_vector is not None:\n",
    "            embedding_matrix[i] = embedding_vector"
   ]
  },
  {
   "cell_type": "code",
   "execution_count": 201,
   "id": "31d4fccd",
   "metadata": {},
   "outputs": [
    {
     "name": "stdout",
     "output_type": "stream",
     "text": [
      "Model: \"sequential_17\"\n",
      "_________________________________________________________________\n",
      " Layer (type)                Output Shape              Param #   \n",
      "=================================================================\n",
      " embedding_17 (Embedding)    (None, 100, 300)          300000    \n",
      "                                                                 \n",
      " gru_37 (GRU)                (None, 100, 32)           32064     \n",
      "                                                                 \n",
      " gru_38 (GRU)                (None, 100, 32)           6336      \n",
      "                                                                 \n",
      " gru_39 (GRU)                (None, 100, 32)           6336      \n",
      "                                                                 \n",
      " gru_40 (GRU)                (None, 32)                6336      \n",
      "                                                                 \n",
      " dense_24 (Dense)            (None, 1)                 33        \n",
      "                                                                 \n",
      "=================================================================\n",
      "Total params: 351,105\n",
      "Trainable params: 351,105\n",
      "Non-trainable params: 0\n",
      "_________________________________________________________________\n"
     ]
    }
   ],
   "source": [
    "model = models.Sequential()\n",
    "\n",
    "model.add(layers.Embedding(max_words, embedding_dim, input_length=maxlen))\n",
    "model.add(layers.GRU(32, return_sequences=True))\n",
    "model.add(layers.GRU(32, return_sequences=True))\n",
    "model.add(layers.GRU(32, return_sequences=True))\n",
    "model.add(layers.GRU(32))\n",
    "#model.add(layers.Dense(32, activation='relu'))\n",
    "model.add(layers.Dense(1, activation='sigmoid'))\n",
    "model.summary()"
   ]
  },
  {
   "cell_type": "raw",
   "id": "88a093d1",
   "metadata": {},
   "source": [
    "model = models.Sequential()\n",
    "\n",
    "model.add(layers.Embedding(max_words, 128, input_length=maxlen))\n",
    "model.add(layers.Conv1D(32, 5, activation='relu'))\n",
    "model.add(layers.MaxPooling1D(3))\n",
    "model.add(layers.Conv1D(32, 5, activation='relu'))\n",
    "model.add(layers.GRU(32, dropout=0.1, recurrent_dropout=0.5))\n",
    "model.add(layers.Dense(1))\n",
    "model.summary()"
   ]
  },
  {
   "cell_type": "code",
   "execution_count": 202,
   "id": "74ce2ce1",
   "metadata": {},
   "outputs": [
    {
     "data": {
      "text/plain": [
       "[<keras.layers.embeddings.Embedding at 0x7f3b0d728210>,\n",
       " <keras.layers.recurrent_v2.GRU at 0x7f3b0d728790>,\n",
       " <keras.layers.recurrent_v2.GRU at 0x7f3b0d72e890>,\n",
       " <keras.layers.recurrent_v2.GRU at 0x7f3b0d720690>,\n",
       " <keras.layers.recurrent_v2.GRU at 0x7f3ac828e2d0>,\n",
       " <keras.layers.core.dense.Dense at 0x7f3ac82e0450>]"
      ]
     },
     "execution_count": 202,
     "metadata": {},
     "output_type": "execute_result"
    }
   ],
   "source": [
    "model.layers"
   ]
  },
  {
   "cell_type": "code",
   "execution_count": 138,
   "id": "209be63e",
   "metadata": {},
   "outputs": [],
   "source": [
    "#model.layers[0].set_weights([embedding_matrix])\n",
    "#model.layers[0].trainable = False"
   ]
  },
  {
   "cell_type": "code",
   "execution_count": 203,
   "id": "bdc17f5a",
   "metadata": {},
   "outputs": [
    {
     "name": "stdout",
     "output_type": "stream",
     "text": [
      "Epoch 1/15\n",
      "63/63 [==============================] - 15s 174ms/step - loss: 0.6510 - acc: 0.6250 - val_loss: 0.5917 - val_acc: 0.6850\n",
      "Epoch 2/15\n",
      "63/63 [==============================] - 10s 161ms/step - loss: 0.4800 - acc: 0.7650 - val_loss: 0.5695 - val_acc: 0.7095\n",
      "Epoch 3/15\n",
      "63/63 [==============================] - 11s 181ms/step - loss: 0.3622 - acc: 0.8360 - val_loss: 0.5030 - val_acc: 0.7597\n",
      "Epoch 4/15\n",
      "63/63 [==============================] - 11s 170ms/step - loss: 0.2921 - acc: 0.8790 - val_loss: 0.6002 - val_acc: 0.7580\n",
      "Epoch 5/15\n",
      "63/63 [==============================] - 11s 175ms/step - loss: 0.2206 - acc: 0.9130 - val_loss: 0.6152 - val_acc: 0.7486\n",
      "Epoch 6/15\n",
      "63/63 [==============================] - 11s 169ms/step - loss: 0.1739 - acc: 0.9345 - val_loss: 0.7009 - val_acc: 0.7457\n",
      "Epoch 7/15\n",
      "63/63 [==============================] - 11s 176ms/step - loss: 0.1214 - acc: 0.9600 - val_loss: 0.8568 - val_acc: 0.7718\n",
      "Epoch 8/15\n",
      "63/63 [==============================] - 11s 173ms/step - loss: 0.1056 - acc: 0.9615 - val_loss: 0.8751 - val_acc: 0.7463\n",
      "Epoch 9/15\n",
      "63/63 [==============================] - 11s 175ms/step - loss: 0.0674 - acc: 0.9780 - val_loss: 1.0449 - val_acc: 0.7350\n",
      "Epoch 10/15\n",
      "63/63 [==============================] - 11s 176ms/step - loss: 0.0586 - acc: 0.9805 - val_loss: 1.0056 - val_acc: 0.7366\n",
      "Epoch 11/15\n",
      "63/63 [==============================] - 11s 176ms/step - loss: 0.0472 - acc: 0.9825 - val_loss: 1.2161 - val_acc: 0.7636\n",
      "Epoch 12/15\n",
      "63/63 [==============================] - 11s 181ms/step - loss: 0.0314 - acc: 0.9905 - val_loss: 1.3035 - val_acc: 0.7571\n",
      "Epoch 13/15\n",
      "63/63 [==============================] - 11s 179ms/step - loss: 0.0263 - acc: 0.9920 - val_loss: 1.5819 - val_acc: 0.7440\n",
      "Epoch 14/15\n",
      "63/63 [==============================] - 11s 172ms/step - loss: 0.0204 - acc: 0.9935 - val_loss: 1.9804 - val_acc: 0.6977\n",
      "Epoch 15/15\n",
      "63/63 [==============================] - 11s 171ms/step - loss: 0.0296 - acc: 0.9930 - val_loss: 1.6354 - val_acc: 0.7261\n"
     ]
    }
   ],
   "source": [
    "model.compile(optimizer='rmsprop', loss='binary_crossentropy', metrics=['acc'])\n",
    "history = model.fit(x_train, y_train,\n",
    "                    epochs=15,\n",
    "                    batch_size=32,\n",
    "                    validation_data=(x_val, y_val))\n",
    "model.save_weights('pre_trained_glove_model.h5')"
   ]
  },
  {
   "cell_type": "code",
   "execution_count": 204,
   "id": "13096347",
   "metadata": {},
   "outputs": [
    {
     "data": {
      "text/plain": [
       "dict_keys(['loss', 'acc', 'val_loss', 'val_acc'])"
      ]
     },
     "execution_count": 204,
     "metadata": {},
     "output_type": "execute_result"
    }
   ],
   "source": [
    "history_dict = history.history\n",
    "history_dict.keys()"
   ]
  },
  {
   "cell_type": "code",
   "execution_count": 205,
   "id": "2d7efa12",
   "metadata": {
    "scrolled": false
   },
   "outputs": [
    {
     "data": {
      "image/png": "[encoded data removed]",
      "text/plain": [
       "<Figure size 432x288 with 1 Axes>"
      ]
     },
     "metadata": {
      "needs_background": "light"
     },
     "output_type": "display_data"
    },
    {
     "data": {
      "image/png": "[encoded data removed]",
      "text/plain": [
       "<Figure size 432x288 with 1 Axes>"
      ]
     },
     "metadata": {
      "needs_background": "light"
     },
     "output_type": "display_data"
    }
   ],
   "source": [
    "epochs = list(np.linspace(1, len(history_dict['loss']), len(history_dict['loss'])))\n",
    "\n",
    "training_loss = history_dict['loss']\n",
    "training_acc = history_dict['acc']\n",
    "validation_loss = history_dict['val_loss']\n",
    "validation_acc = history_dict['val_acc']\n",
    "\n",
    "plt.plot(epochs, training_loss, marker='o', label='Training Loss')\n",
    "plt.plot(epochs, validation_loss, marker='v', label='Validation Loss')\n",
    "plt.legend()\n",
    "plt.show()\n",
    "\n",
    "plt.figure()\n",
    "\n",
    "plt.plot(epochs, training_acc, marker='o', label='Training Accuracy')\n",
    "plt.plot(epochs, validation_acc, marker='v', label='Validation Accuracy')\n",
    "plt.legend()\n",
    "plt.show()"
   ]
  },
  {
   "cell_type": "code",
   "execution_count": 206,
   "id": "26b30a2a",
   "metadata": {},
   "outputs": [],
   "source": [
    "test_dir = os.path.join(imdb_dir, 'test')\n",
    "\n",
    "labels = list()\n",
    "texts = list()\n",
    "\n",
    "for label_type in ['neg','pos']:\n",
    "    dir_name = os.path.join(test_dir, label_type)\n",
    "    for fname in os.listdir(dir_name):\n",
    "        if fname[-4:] == '.txt':\n",
    "            f = open(os.path.join(dir_name, fname))\n",
    "            texts.append(f.read())\n",
    "            f.close()\n",
    "            if label_type == 'neg':\n",
    "                labels.append(0)\n",
    "            else:\n",
    "                labels.append(1)"
   ]
  },
  {
   "cell_type": "code",
   "execution_count": 207,
   "id": "0e52ca03",
   "metadata": {},
   "outputs": [],
   "source": [
    "sequences = tokenizer.texts_to_sequences(texts)"
   ]
  },
  {
   "cell_type": "code",
   "execution_count": 208,
   "id": "86419dbe",
   "metadata": {},
   "outputs": [],
   "source": [
    "x_test = pad_sequences(sequences, maxlen=maxlen)\n",
    "y_test = np.asarray(labels)"
   ]
  },
  {
   "cell_type": "code",
   "execution_count": 209,
   "id": "c54e3c8b",
   "metadata": {},
   "outputs": [
    {
     "name": "stdout",
     "output_type": "stream",
     "text": [
      "782/782 [==============================] - 15s 19ms/step - loss: 1.4994 - acc: 0.7466\n"
     ]
    },
    {
     "data": {
      "text/plain": [
       "[1.4993610382080078, 0.7465999722480774]"
      ]
     },
     "execution_count": 209,
     "metadata": {},
     "output_type": "execute_result"
    }
   ],
   "source": [
    "model.load_weights('pre_trained_glove_model.h5')\n",
    "model.evaluate(x_test, y_test)"
   ]
  }
 ],
 "metadata": {
  "kernelspec": {
   "display_name": "Python 3",
   "language": "python",
   "name": "python3"
  },
  "language_info": {
   "codemirror_mode": {
    "name": "ipython",
    "version": 3
   },
   "file_extension": ".py",
   "mimetype": "text/x-python",
   "name": "python",
   "nbconvert_exporter": "python",
   "pygments_lexer": "ipython3",
   "version": "3.7.12"
  }
 },
 "nbformat": 4,
 "nbformat_minor": 5
}
